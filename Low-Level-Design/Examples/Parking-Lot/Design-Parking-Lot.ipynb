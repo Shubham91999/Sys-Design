{
 "cells": [
  {
   "cell_type": "markdown",
   "id": "a0976300",
   "metadata": {},
   "source": [
    "# **Designing a Parking Lot System** <br><br><hr>"
   ]
  },
  {
   "cell_type": "markdown",
   "id": "19d1324e",
   "metadata": {},
   "source": [
    "## **Requirements**"
   ]
  },
  {
   "cell_type": "markdown",
   "id": "ca27a878",
   "metadata": {},
   "source": [
    "#### 1. The parking lot should have multiple levels, each level with a certain number of parking spots. \n",
    "#### 2. The parking lot should support different types of vehicles such as **Cars**, **Motorcycles**, and **Trucks**. \n",
    "#### 3. Each parking spot should be able to accomodate a specific type of vehicle. \n",
    "#### 4. The system should assign a parking spot to a vehicle upon entry and release it when the vehicle exits.\n",
    "#### 5. The system should track the availability of parking spots and provide a real-time information to customers.\n",
    "#### 6. The system should handle multiple entry and exit points and support concurrent access. <br><br><hr>\n"
   ]
  },
  {
   "cell_type": "markdown",
   "id": "bd28f4c9",
   "metadata": {},
   "source": [
    "## **Classes, Interfaces and Enumerations**"
   ]
  },
  {
   "cell_type": "markdown",
   "id": "434a8119",
   "metadata": {},
   "source": [
    "#### 1. The **ParkingLot** class follows the Singleton pattern to ensure only one instance of the parking lot exists. It maintains a list of levels and provides methods to park and unpark vehicles.\n",
    "#### 2. The **level** class represents a level in the parking lot and contains a list of parking spots. It handles parking and unparking of vehicles within the level. \n",
    "#### 3. The **ParkingSpot** class represents an individual parking spot and tracks the availability and the parked vehicle.\n",
    "#### 4. The **Vehicle** class is an abstract class for different types of vehicles. It is extended by **Car, Motorcycle, and Truck** classes.\n",
    "#### 5. The **VehicleType** enum defines the different types of vehicles supported by the parking lot.\n",
    "#### 6. **Multi-threading** is achieved through the use of **synchronized** keyword on critical sections to ensure thread safety.\n",
    "#### 7. The **Main** class demonstrates the usage of the parking lot system. <br><br><hr>"
   ]
  },
  {
   "cell_type": "markdown",
   "id": "17cdfad4",
   "metadata": {},
   "source": [
    "## **Design Patterns Used**"
   ]
  },
  {
   "cell_type": "markdown",
   "id": "a2638620",
   "metadata": {},
   "source": [
    "#### 1. **Singleton Pattern**: Ensures only one instance of the ParkingLot class.\n",
    "#### 2. **Factory Pattern** (Optional Extension): Could be used for creating vehicles based on input.\n",
    "#### 3. **Oberver Pattern** (Optional Extension): Could notify customers about available spots. <br><br><hr>"
   ]
  },
  {
   "cell_type": "markdown",
   "id": "6fc6d1fb",
   "metadata": {},
   "source": [
    "#### 1. VehicleType class enum \n",
    "#### 2. Abstarct class Vehicle with get_type() method\n",
    "#### 3. Car class extending the Vehicle\n",
    "#### 4. Motorcyle class extending the Vehicle\n",
    "#### 5. Truck class extending the Vehicle\n",
    "#### 6. ParkingSpot class with importing Vehicle and VehicleType class\n",
    "#### 7. Level class with importing Vehicle and ParkingSpot class\n",
    "#### 8. Now ParkingLot class importing Vehicle and Level classes"
   ]
  },
  {
   "cell_type": "markdown",
   "id": "1a403301",
   "metadata": {},
   "source": []
  }
 ],
 "metadata": {
  "kernelspec": {
   "display_name": "base",
   "language": "python",
   "name": "python3"
  },
  "language_info": {
   "codemirror_mode": {
    "name": "ipython",
    "version": 3
   },
   "file_extension": ".py",
   "mimetype": "text/x-python",
   "name": "python",
   "nbconvert_exporter": "python",
   "pygments_lexer": "ipython3",
   "version": "3.11.5"
  }
 },
 "nbformat": 4,
 "nbformat_minor": 5
}
