{
 "cells": [
  {
   "cell_type": "markdown",
   "id": "93677cc4",
   "metadata": {},
   "source": [
    "# **Designing a Chess Game** <br><br><hr>"
   ]
  },
  {
   "cell_type": "markdown",
   "id": "70cbd9f2",
   "metadata": {},
   "source": [
    "## **Requirements**"
   ]
  },
  {
   "cell_type": "markdown",
   "id": "51e39858",
   "metadata": {},
   "source": [
    "#### 1. The Chess game should follow the standard rules of Chess.\n",
    "#### 2. The game should support two players, each controlling their own set of pieces.\n",
    "#### 3. The game board should be represented as an 8x8 grid, with alternating black and white sqaures.\n",
    "#### 4. Each player should have 16 pieces: 1 King, 1 Queen, 2 Rooks, 2 Bishops, 2 Knights, and 8 Pawns.\n",
    "#### 5. The game should validate the legal moves for each piece and prevent illegal moves.\n",
    "#### 6. The game should detect checkmate and stalemate conditions.\n",
    "#### 7. The game should handle player turns and allows players to make moves alternately.\n",
    "#### 8. The game provides a user interface for players to interact with the game. <br><br><hr>"
   ]
  },
  {
   "cell_type": "markdown",
   "id": "2951a998",
   "metadata": {},
   "source": [
    "## **Classes, Interfaces and Enumerations**"
   ]
  },
  {
   "cell_type": "markdown",
   "id": "ecfcfc82",
   "metadata": {},
   "source": [
    "#### 1. The **Piece** class is an **Abstract Base Class** representing a Chess piece. It Contains common attributes such as **color**, **row**, and **column**, and declares an abstract method **canMove** to be implemented by each specific piece class.\n",
    "\n",
    "#### 2. The **King, Queen, Rook, Bishop, Knight, and Pawn** classes extend the piece class and implement their respective movement logic in the canMove method.\n",
    "\n",
    "#### 3. The **Board** class represents the chess board and manages the placement of pieces. It provides methods to get and set pieces on the board, check the validity of moves, and determine checkmate and stalemate conditions.\n",
    "\n",
    "#### 4. The **Player** class represents a player in the game and has a method to make a move on the board.\n",
    "\n",
    "#### 5. The **Move** class represents a move made by a player, containing the piece being moved and the destination coordinates.\n",
    "\n",
    "#### 6. The **Game** class orchestrates the overall game flow. It initializes the board, handle player turns, and determines the game reult.\n",
    "\n",
    "#### 7. The **ChessGame** class is the entry point of the application ans starts the game. <br><br><hr>"
   ]
  },
  {
   "cell_type": "markdown",
   "id": "40382502",
   "metadata": {},
   "source": [
    "#### 1. Defining ENUM class Color\n",
    "\n",
    "#### 2. Writing **Piece** class first, as it is a foundation of all pieces and shows the understanding of inheritance and polyorphism.\n",
    "\n",
    "#### 2. Writing **King, Queen, Rook, Bishop, Knight, and Pawn** classes, inheriting attributes from Piece, implementing abstract method."
   ]
  }
 ],
 "metadata": {
  "language_info": {
   "name": "python"
  }
 },
 "nbformat": 4,
 "nbformat_minor": 5
}
