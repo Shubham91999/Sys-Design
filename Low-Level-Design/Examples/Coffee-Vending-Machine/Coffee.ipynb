{
 "cells": [
  {
   "cell_type": "markdown",
   "id": "69833fdf",
   "metadata": {},
   "source": [
    "# **Designing a Coffee Vending Machine** <br><br><hr>"
   ]
  },
  {
   "cell_type": "markdown",
   "id": "3a4b1a8f",
   "metadata": {},
   "source": [
    "## **Requirements**"
   ]
  },
  {
   "cell_type": "markdown",
   "id": "0d534a72",
   "metadata": {},
   "source": [
    "#### 1. The coffee vending machine should support different types of coffee, such as espresso, cappucino, and latte.\n",
    "#### 2. Each type of coffee should have a specific price and recipe (ingredients and their quantities).\n",
    "#### 3. The machine should have menu to display the available coffee options and their prices.\n",
    "#### 4. Users should be able to select a coffee type and make a payment.\n",
    "#### 5. The machine should dispense the selected coffe and provide change if necessary.\n",
    "#### 6. The machine should track the inventory of ingredients and notify when they are running low.\n",
    "#### 7. The machine should handle multiple user requests concurrently and ensure thread safety. <br><br><hr>"
   ]
  },
  {
   "cell_type": "markdown",
   "id": "1b8e7e96",
   "metadata": {},
   "source": [
    "## **Classes, Interfaces and Enumerations**"
   ]
  },
  {
   "cell_type": "markdown",
   "id": "dfc2bbad",
   "metadata": {},
   "source": [
    "#### 1. The **Coffee** class represent a coffee type with its name, price, and recipe (ingredients and their quantities).\n",
    "#### 2. The **Ingredient** class represents an ingredient used in making coffee, with its name and quantity. It provides a synchrinized method to update the quantity.\n",
    "#### 3. The **Payment** class represents a payment made by a user, with the amount paid.\n",
    "#### 4. The **CoffeeMachine** class is the main class that manages the coffee vending machine. It follows the Singleton pattern to ensure a single instance of the machine.\n",
    "#### 5. The **CoffeeMachine** also intializes the coffee menu and ingredients in its constructor. It provides methods to display the menu, select a coffee, dispense coffee, and update ingredients quantities.\n",
    "#### 6. The **hasEnoughIngredients** method checks if there are sufficient ingredients in machine to make a selected coffee, while the **updateIngredients** method updates the quantities after dispensing a coffee.\n",
    "#### 7. The **CoffeeVendingMachine** class the entry point of the application and demonstrates the usage of the coffee vending machine. It creates an instance of the machine, displays the menu, and simulates concurrent user requests using an ExecutorService. <br><br><hr>"
   ]
  },
  {
   "cell_type": "markdown",
   "id": "628fd3e1",
   "metadata": {},
   "source": [
    "#### **ExecutorService**: <br><br>refers to the abstraction for managing a pool of threads or processes to execute tasks asynchronously or concurrently - just like ExecutorService in Java. <br> Python Equivalent: **concurrent.futures.ThreadPoolExecutor** and **ProcessPoolExecutor**.\n",
    "\n",
    "#### ThreadPoolExecutor is used for I/O bound tasks, while ProcessPoolExecutor is used for CPU-intensive tasks."
   ]
  },
  {
   "cell_type": "markdown",
   "id": "6b476b64",
   "metadata": {},
   "source": [
    "## **Steps in writing code:**\n",
    "#### 1. **Class Coffee**: Start by designing **Coffee** class, which represents a single type of coffee, such as espresso, cappuccino, or latte. This class encapsulates the essential information for each coffee item: name, price and recipe - which includes the list of ingredients and their required quantity.\n",
    "\n",
    "#### 2. **Class Ingredient**: Models any individual ingredient like water, milk, and coffee beans. Holds two key attributes; name and quantity in the machine. Accessor method provided to update the quantity of particular ingredient. To make this class thread safe, threading.lock() can be added in constructor.\n",
    "\n",
    "#### 3. **Class Payment**: represents the amount a user pays during a coffee order. This class can be extended to handle payment validation, change calculation, or even handle different methods like coins or cards.\n",
    "\n",
    "#### 4. **Class CoffeeMachine**: Implemented as a singleton to ensure there's only one active instance representing the physical machine. This prevents the shared state issues and mirrors the real-world constraint of a single hardware instance.\n",
    "\n",
    "#### 5. Demo class to simulate user interaction."
   ]
  },
  {
   "cell_type": "markdown",
   "id": "c4373206",
   "metadata": {},
   "source": []
  }
 ],
 "metadata": {
  "language_info": {
   "name": "python"
  }
 },
 "nbformat": 4,
 "nbformat_minor": 5
}
