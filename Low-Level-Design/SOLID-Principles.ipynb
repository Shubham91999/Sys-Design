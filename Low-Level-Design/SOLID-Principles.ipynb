{
 "cells": [
  {
   "cell_type": "markdown",
   "id": "4a5d8c33",
   "metadata": {},
   "source": [
    "## **SOLID Principles**"
   ]
  },
  {
   "cell_type": "markdown",
   "id": "fcab0dd8",
   "metadata": {},
   "source": [
    "#### Five software development principles are **guidelines** to follow when building software so that it is **easier to scale and maintain**. Given by Robert C. Martin"
   ]
  },
  {
   "cell_type": "markdown",
   "id": "a0f07f35",
   "metadata": {},
   "source": [
    "#### S -> Single Responsibility <br> O -> Open-Closed <br> L -> Liskov Substitution <br> I -> Interface Segregation <br> D -> Dependency Inversion <hr>"
   ]
  },
  {
   "cell_type": "markdown",
   "id": "4af350db",
   "metadata": {},
   "source": [
    "### **1. Single Responsibility**"
   ]
  },
  {
   "cell_type": "markdown",
   "id": "549d1d9d",
   "metadata": {},
   "source": [
    "#### A class should have a single responsibility. <br><br> If a class has multiple responsibilities, it increases the possibility of bugs because making changes to one of its responsibilities, could affect the other ones without you knowing."
   ]
  },
  {
   "cell_type": "markdown",
   "id": "af25dce8",
   "metadata": {},
   "source": [
    "#### **Goal** : Separate behaviour so that if bug arises as a result of any change, it wont affect other unrelated behaviours."
   ]
  },
  {
   "cell_type": "code",
   "execution_count": 2,
   "id": "cbfc4f5d",
   "metadata": {},
   "outputs": [],
   "source": [
    "class UserManager:\n",
    "    def authenticate_user(self, username, password):\n",
    "        # Authentication Logic\n",
    "        pass\n",
    "\n",
    "    def update_user_profile(self, user_id, new_profile_data):\n",
    "        # Profile update logic\n",
    "        pass\n",
    "\n",
    "    def send_email_notification(self, user_email, message):\n",
    "        # Email notification logic\n",
    "        pass"
   ]
  },
  {
   "cell_type": "markdown",
   "id": "fc962d67",
   "metadata": {},
   "source": [
    "#### This class violates the **Single Responsibility** because it has multiple responsibilities : Authentication, Profile Management, and Email Notifications. To adhere to the SRP, we can split this class into three separate classes, each with a single responsibility:"
   ]
  },
  {
   "cell_type": "code",
   "execution_count": 3,
   "id": "97631ee3",
   "metadata": {},
   "outputs": [],
   "source": [
    "class UserManager:\n",
    "    def authenticate_user(self, username, password):\n",
    "        # Authentication Logic\n",
    "        pass\n",
    "\n",
    "class UserProfileManager:\n",
    "    def update_user_profile(self, user_id, new_profile_data):\n",
    "        # Profile update logic\n",
    "        pass\n",
    "\n",
    "class EmailNotifier:\n",
    "    def send_email_notification(self, user_email, message):\n",
    "        # Email notification logic\n",
    "        pass"
   ]
  },
  {
   "cell_type": "markdown",
   "id": "523c3648",
   "metadata": {},
   "source": [
    "#### Now, each class has a single, well-defined responsibility. Changes to user authentication won't effect the email notification logic, and vice versa, improving maintainability and reducing the risk of uninteded side effects."
   ]
  },
  {
   "cell_type": "markdown",
   "id": "acfbad03",
   "metadata": {},
   "source": [
    "<hr>"
   ]
  },
  {
   "cell_type": "markdown",
   "id": "0646bdf8",
   "metadata": {},
   "source": [
    "### **2. Open-Closed**\n"
   ]
  },
  {
   "cell_type": "markdown",
   "id": "89abb138",
   "metadata": {},
   "source": [
    "#### classes should be open for extension, but closed for modification."
   ]
  },
  {
   "cell_type": "markdown",
   "id": "4f4bc1e4",
   "metadata": {},
   "source": [
    "#### Changing the current behaviour of a class will affect all the systems using that class. If you want the class to perform more functions, the ideal approach is to add to the fuctions that already exist NOT change them."
   ]
  },
  {
   "cell_type": "markdown",
   "id": "188b282d",
   "metadata": {},
   "source": [
    "#### **Goal** : Aims to extend a class's behaviour without changing the existing behaviour of that class. This is to avoid causing bugs wherever the class is being used."
   ]
  },
  {
   "cell_type": "markdown",
   "id": "e8f48481",
   "metadata": {},
   "source": [
    "#### Let's say you have a ShapeCalculator class that calculates the area and perimeter of different shapes like rectangles and circles."
   ]
  },
  {
   "cell_type": "code",
   "execution_count": 4,
   "id": "d6b8ca65",
   "metadata": {},
   "outputs": [],
   "source": [
    "class ShapeCalculator:\n",
    "    def calculate_area(self, shape):\n",
    "        if shape.type == 'rectangle':\n",
    "            return shape.width * shape.height\n",
    "        elif shape.type == 'circle':\n",
    "            return 3.14 * (shape.radius ** 2)\n",
    "        \n",
    "    def calculate_perimeter(self, shape):\n",
    "        if shape.type == 'rectangle':\n",
    "            return 2 * (shape.width + shape.height)\n",
    "        elif shape.type == 'circle':\n",
    "            return 2 * 3.14 * shape.radius"
   ]
  },
  {
   "cell_type": "markdown",
   "id": "808e82be",
   "metadata": {},
   "source": [
    "#### If we want to add support for a new shape, like a triangle, we would have to modify the calculate_area and calculate_perimeter methods, violating the Open/Closed Principle. To adhere to the OCP, we can create an **abstract base class** for shapes and separate concrete classes for each shape type:"
   ]
  },
  {
   "cell_type": "code",
   "execution_count": null,
   "id": "d73f09ac",
   "metadata": {},
   "outputs": [],
   "source": [
    "from abc import ABC, abstractmethod\n",
    "\n",
    "class Shape(ABC):\n",
    "    @abstractmethod\n",
    "    def calculate_area(self):\n",
    "        pass\n",
    "\n",
    "    @abstractmethod\n",
    "    def calculate_perimeter(self):\n",
    "        pass\n",
    "\n",
    "class Rectangle(Shape):\n",
    "    def __init__(self, width, height):\n",
    "        self.width = width\n",
    "        self.height = height\n",
    "\n",
    "    def calculate_area(self):\n",
    "        return self.width * self.height\n",
    "    \n",
    "    def calculate_perimeter(self):\n",
    "        return 2 * (self.width + self.height)\n",
    "    \n",
    "class Circle(Shape):\n",
    "    def __init__(self, radius):\n",
    "        self.radius = radius\n",
    "\n",
    "    def calculate_area(self):\n",
    "        return 3.14 * (self.radius ** 2)\n",
    "    \n",
    "    def calculate_perimeter(self):\n",
    "        return 2 * 3.14 * self.radius\n",
    "\n",
    "# New shapes like triangle can be added without modifying existing code\n",
    "class Triangle:\n",
    "    # Implementation for triangle\n"
   ]
  },
  {
   "cell_type": "markdown",
   "id": "f686a2ef",
   "metadata": {},
   "source": [
    "#### By introducing an **abstraction** (Shape class) and separating the concrete implementations (Rectangle and Circle classes), we can add new shapes without modifying the existing code. The ShapeCalculator class can now work with any shape that implements the Shape interface, allowing for easy extensibility."
   ]
  },
  {
   "cell_type": "markdown",
   "id": "65181ea6",
   "metadata": {},
   "source": [
    "<hr>"
   ]
  },
  {
   "cell_type": "markdown",
   "id": "6db0dd83",
   "metadata": {},
   "source": [
    "### **3. Liskov Substituition Principle (LSP)**"
   ]
  },
  {
   "cell_type": "markdown",
   "id": "9c559e44",
   "metadata": {},
   "source": [
    "#### Objects of a superclass should be replaceable with objects of its subclasses without affecting the correctness of the program."
   ]
  },
  {
   "cell_type": "markdown",
   "id": "a267de19",
   "metadata": {},
   "source": [
    "#### This means if you have a base class and a derived class, you should be able to use instances of the derived class wherever instances of the base class are expected, without breaking the application."
   ]
  },
  {
   "cell_type": "markdown",
   "id": "11755ea9",
   "metadata": {},
   "source": [
    "#### **Goal** : This principle aims to enforce consistency so that the parent Class or its child Class can be used in the same way without any errors."
   ]
  },
  {
   "cell_type": "code",
   "execution_count": 6,
   "id": "3de6e585",
   "metadata": {},
   "outputs": [],
   "source": [
    "class Vehicle:\n",
    "    def start_engine(self):\n",
    "        pass\n",
    "\n",
    "class Car(Vehicle):\n",
    "    def start_engine(self):\n",
    "        print('Starting the car engine..')\n",
    "\n",
    "class Bicycle(Vehicle):\n",
    "    def start_engine(self):\n",
    "        # This doesnt make sense for a bicyle\n",
    "        pass"
   ]
  },
  {
   "cell_type": "markdown",
   "id": "25dc5161",
   "metadata": {},
   "source": [
    "#### In this example, the Bicycle class violates the LSP because it provides an implementation for the start_engine method, which doesn't make sense for a bicycle. <br> If we try to substitute a Bicycle instance where a Vehicle instance is expected, it might lead to unexpected behavior or errors. <br>To adhere to the LSP, we can restructure the code as follows:"
   ]
  },
  {
   "cell_type": "code",
   "execution_count": 7,
   "id": "2f0054c6",
   "metadata": {},
   "outputs": [],
   "source": [
    "class Vehicle:\n",
    "    def start(self):\n",
    "        pass\n",
    "\n",
    "class Car(Vehicle):\n",
    "    def start(self):\n",
    "        print('Starting the car engine..')\n",
    "\n",
    "class Bicycle(Vehicle):\n",
    "    def start(self):\n",
    "        print('Pedaling the bicycle..')"
   ]
  },
  {
   "cell_type": "markdown",
   "id": "b6bdda10",
   "metadata": {},
   "source": [
    "#### Here, we've replaced the **start_engine** method with a more general start method in the base class Vehicle. The Car class implements the start method to start the engine, while the Bicycle class implements the start method to indicate that the rider is pedaling. Now, instances of Car and Bicycle can be safely substituted for instances of Vehicle without any unexpected behavior or errors.\n",
    "<hr>"
   ]
  },
  {
   "cell_type": "markdown",
   "id": "22dd6c17",
   "metadata": {},
   "source": [
    "### **4. Interface Segregation Principle (ISP)**"
   ]
  },
  {
   "cell_type": "markdown",
   "id": "43b49e04",
   "metadata": {},
   "source": [
    "#### No client should be forced to depend on interfaces they don't use."
   ]
  },
  {
   "cell_type": "markdown",
   "id": "1326b5c8",
   "metadata": {},
   "source": [
    "#### The main idea behind ISP is to prevent the creation of \"fat\" or \"bloated\" interfaces that include methods that are not required by all clients. By segregating interfaces into smaller, more specific ones, clients only depend on the methods they actually need, promoting loose coupling and better code organization.\n",
    "\n"
   ]
  },
  {
   "cell_type": "markdown",
   "id": "57dc1f61",
   "metadata": {},
   "source": [
    "#### **Goal** : This principle aims at splitting a set of actions into smaller sets so that a Class executes ONLY the set of actions it requires."
   ]
  },
  {
   "cell_type": "markdown",
   "id": "e32e0dc8",
   "metadata": {},
   "source": [
    "#### Let's consider a scenario where we have a media player application that supports different types of media files, such as audio files (MP3, WAV) and video files (MP4, AVI). Without applying the ISP, we might have a single interface like this:"
   ]
  },
  {
   "cell_type": "code",
   "execution_count": 8,
   "id": "75cce8a8",
   "metadata": {},
   "outputs": [],
   "source": [
    "class MediaPlayer:\n",
    "    def play_audio(self, audio_file):\n",
    "        raise NotImplementedError\n",
    "    \n",
    "    def play_video(self, video_file):\n",
    "        raise NotImplementedError\n",
    "    \n",
    "    def stop_audio(self):\n",
    "        raise NotImplementedError\n",
    "    \n",
    "    def sstop_video(self):\n",
    "        raise NotImplementedError\n",
    "    \n",
    "    def adjust_audio_volume(self, volume):\n",
    "        raise NotImplementedError\n",
    "    \n",
    "    def adjust_video_brightness(self, brightness):\n",
    "        raise NotImplementedError"
   ]
  },
  {
   "cell_type": "markdown",
   "id": "c8e5a94b",
   "metadata": {},
   "source": [
    "#### In this case, any class that implements the MediaPlayer interface would be forced to implement all the methods, even if it doesn't need them. <br> For example, an audio player would have to implement the play_video, stop_video, and adjust_video_brightness methods, even though they are not relevant for audio playback. <br> To adhere to the ISP, we can segregate the interface into smaller, more focused interfaces:"
   ]
  },
  {
   "cell_type": "code",
   "execution_count": 9,
   "id": "52f89af9",
   "metadata": {},
   "outputs": [],
   "source": [
    "class AudioPlayer:\n",
    "    def play_audio(self, audio_file):\n",
    "        raise NotImplementedError\n",
    "    \n",
    "    def stop_audio(self):\n",
    "        raise NotImplementedError\n",
    "    \n",
    "    def adjust_audio_volume(self, volume):\n",
    "        raise NotImplementedError\n",
    "    \n",
    "class VideoPlayer:\n",
    "    def play_video(self, video_file):\n",
    "        raise NotImplementedError\n",
    "    \n",
    "    def sstop_video(self):\n",
    "        raise NotImplementedError\n",
    "    \n",
    "    def adjust_video_brightness(self, brightness):\n",
    "        raise NotImplementedError"
   ]
  },
  {
   "cell_type": "markdown",
   "id": "21ca980d",
   "metadata": {},
   "source": [
    "#### Now, we can have separate implementations for audio and video players:"
   ]
  },
  {
   "cell_type": "code",
   "execution_count": 11,
   "id": "1f5d4e15",
   "metadata": {},
   "outputs": [],
   "source": [
    "class MP3Player(AudioPlayer):\n",
    "    def play_audio(self, audio_file):\n",
    "        # Playing audio file\n",
    "        pass\n",
    "\n",
    "    def stop_audio(self):\n",
    "        # Stopping audio playback\n",
    "        pass\n",
    "    \n",
    "    def adjust_audio_volume(self, volume):\n",
    "        # Adjusting audio volume\n",
    "        pass\n",
    "\n",
    "class AVIVideoPlayer(VideoPlayer):\n",
    "    def play_video(self, video_file):\n",
    "        # Playing video file\n",
    "        pass\n",
    "    \n",
    "    def sstop_video(self):\n",
    "        # Stopping video playback\n",
    "        pass\n",
    "    \n",
    "    def adjust_video_brightness(self, brightness):\n",
    "        # Adjusting video brightness\n",
    "        pass"
   ]
  },
  {
   "cell_type": "markdown",
   "id": "df6be56b",
   "metadata": {},
   "source": [
    "#### By segregating the interfaces, each class only needs to implement the methods it actually requires. This not only makes the code more maintainable but also prevents clients from being forced to depend on methods they don't use. If we need a class that supports both audio and video playback, we can create a new class that implements both interfaces:"
   ]
  },
  {
   "cell_type": "code",
   "execution_count": 13,
   "id": "2b0a2681",
   "metadata": {},
   "outputs": [],
   "source": [
    "class MultimediaPlayer(AudioPlayer, VideoPlayer):\n",
    "    # Implement all methods\n",
    "    pass"
   ]
  },
  {
   "cell_type": "markdown",
   "id": "96dcba30",
   "metadata": {},
   "source": [
    "<hr>"
   ]
  },
  {
   "cell_type": "markdown",
   "id": "c7d4b810",
   "metadata": {},
   "source": [
    "### **5. Dependency Inversion Principle (DIP)**"
   ]
  },
  {
   "cell_type": "markdown",
   "id": "2bbbdf17",
   "metadata": {},
   "source": [
    "#### High-level modules should not depend on low-level modules. Both should depend on the abstraction. Abstractions should not depend on details. Details should depend on abstractions."
   ]
  },
  {
   "cell_type": "markdown",
   "id": "92c4c29c",
   "metadata": {},
   "source": [
    "#### This means that a particular class should not depend directly on another class, but on an abstraction (interface) of this class. Applying this principle reduces dependency on specific implementations and makes our code more reusable."
   ]
  },
  {
   "cell_type": "markdown",
   "id": "d67675b4",
   "metadata": {},
   "source": [
    "#### **Goal** : This principle aims at reducing the dependency of a high-level Class on the low-level Class by introducing an interface."
   ]
  },
  {
   "cell_type": "markdown",
   "id": "4a0f84d6",
   "metadata": {},
   "source": [
    "#### Let's consider a example where we have a EmailService class that sends emails using a specific email provider (e.g., Gmail)."
   ]
  },
  {
   "cell_type": "code",
   "execution_count": 14,
   "id": "bd5dc3ee",
   "metadata": {},
   "outputs": [],
   "source": [
    "class GmailClient:\n",
    "    def send_email(self, recipient, subject, body):\n",
    "        # Actual logic to send email using gmail API\n",
    "        pass\n",
    "\n",
    "class EmailService:\n",
    "    def __init__(self):\n",
    "        self.gmail_client = GmailClient()\n",
    "\n",
    "    def send_email(self, recipient, subject, body):\n",
    "        self.gmail_client.send_email(recipient, subject, body)"
   ]
  },
  {
   "cell_type": "markdown",
   "id": "42c1a496",
   "metadata": {},
   "source": [
    "#### In this example, the EmailService class directly depends on the GmailClient class, a low-level module that implements the details of sending emails using the Gmail API. <br> This violates the DIP because the high-level EmailService module is tightly coupled to the low-level GmailClient module. <br> To adhere to the DIP, we can introduce an abstraction (interface) for email clients:\n"
   ]
  },
  {
   "cell_type": "code",
   "execution_count": 18,
   "id": "4145bc43",
   "metadata": {},
   "outputs": [],
   "source": [
    "class EmailClient:\n",
    "    def send_email(self, recipient, subject, body):\n",
    "        raise NotImplementedError\n",
    "    \n",
    "class GmailClient(EmailClient):\n",
    "    def send_email(self, recipient, subject, body):\n",
    "        # Actual logic to send email using gmail API\n",
    "        pass\n",
    "\n",
    "class OutlookClient(EmailClient):\n",
    "    def send_email(self, recipient, subject, body):\n",
    "        # Actual logic to send email using gmail API\n",
    "        pass\n",
    "\n",
    "class EmailService:\n",
    "    def __init__(self, emailClient):\n",
    "        self.email_client = emailClient\n",
    "\n",
    "    def send_email(self, recipient, subject, body):\n",
    "        self.email_client.send_email(recipient, subject, body)\n",
    "\n",
    "# Usage\n",
    "gmail_client = GmailClient()\n",
    "email_service = EmailService(gmail_client)\n",
    "email_service.send_email('email@gmail.com', 'subject', 'body')\n"
   ]
  },
  {
   "cell_type": "markdown",
   "id": "8a2e1a3e",
   "metadata": {},
   "source": [
    "#### Now, the EmailService class depends on the EmailClient abstraction, and the low-level email client implementations (GmailClient and OutlookClient) depend on the abstraction. This follows the DIP, resulting in a more flexible and extensible design."
   ]
  },
  {
   "cell_type": "markdown",
   "id": "50e9e788",
   "metadata": {},
   "source": [
    "<hr>"
   ]
  }
 ],
 "metadata": {
  "kernelspec": {
   "display_name": "base",
   "language": "python",
   "name": "python3"
  },
  "language_info": {
   "codemirror_mode": {
    "name": "ipython",
    "version": 3
   },
   "file_extension": ".py",
   "mimetype": "text/x-python",
   "name": "python",
   "nbconvert_exporter": "python",
   "pygments_lexer": "ipython3",
   "version": "3.11.5"
  }
 },
 "nbformat": 4,
 "nbformat_minor": 5
}
