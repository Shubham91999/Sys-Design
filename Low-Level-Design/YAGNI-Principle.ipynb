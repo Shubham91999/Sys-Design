{
 "cells": [
  {
   "cell_type": "markdown",
   "id": "0d6ee3d2",
   "metadata": {},
   "source": [
    "## YAGNI -> You Aren't Gonna Need It"
   ]
  },
  {
   "cell_type": "markdown",
   "id": "3a700996",
   "metadata": {},
   "source": [
    "#### **Always implement things when you actually need them, never when you just foresee that you might need them**"
   ]
  },
  {
   "cell_type": "markdown",
   "id": "6f2d8395",
   "metadata": {},
   "source": [
    "#### This principle was popularized by developers in the Extreme Programming (XP) community, among them Kent Beck and Ron Jeffries, who advocate for a focus on simplicity and incremental development. <br><br> At its heart, YAGNI is about avoiding over-engineering and focusing strictly on the present requirements.<br><br> The rationale behind YAGNI is simple: every line of code we write comes with a cost. It needs to be developed, tested, maintained, and understood by other developers. <br><br> By adding unnecessary features or over-engineering solutions, we incur additional complexity, which can slow down development, increase the likelihood of bugs, and make the codebase harder to maintain. <br><br><hr>\n",
    "\n"
   ]
  },
  {
   "cell_type": "markdown",
   "id": "044ddaa8",
   "metadata": {},
   "source": [
    "#### Example: Payment Processing   <br><br> Over-Engineered:"
   ]
  },
  {
   "cell_type": "code",
   "execution_count": null,
   "id": "7d757b4d",
   "metadata": {},
   "outputs": [],
   "source": [
    "def process_payment(self, amount, payment_method):\n",
    "    if payment_method == \"Credit_Card\":\n",
    "        # Implementation Logic \n",
    "        pass\n",
    "    elif payment_method == \"Paypal\":\n",
    "        pass\n",
    "    elif payment_method == \"Bitcoin\":\n",
    "        pass"
   ]
  },
  {
   "cell_type": "markdown",
   "id": "edbae0f8",
   "metadata": {},
   "source": [
    "#### YAGNI aligned:"
   ]
  },
  {
   "cell_type": "code",
   "execution_count": null,
   "id": "42a94959",
   "metadata": {},
   "outputs": [],
   "source": [
    "def process_payment(self, amount, payment_method):\n",
    "    if payment_method == \"Credit_Card\":\n",
    "        # Implementation logic\n",
    "        pass"
   ]
  },
  {
   "cell_type": "markdown",
   "id": "7b0c5368",
   "metadata": {},
   "source": [
    "#### Start by supporting only the payment methods you currently need. Add support for PayPal or Bitcoin later in the development cycle if the demand arises. <br><br> <hr>"
   ]
  },
  {
   "cell_type": "markdown",
   "id": "fe93741b",
   "metadata": {},
   "source": [
    "### **Benefits of YAGNI**"
   ]
  },
  {
   "cell_type": "markdown",
   "id": "8b69d84e",
   "metadata": {},
   "source": [
    "#### **1. Reduced waste**: By only implementing what's necessary, you avoid wasting time and effort on unnecessary code.\n",
    "\n",
    "#### **2. Simplified codebase**: YAGNI promotes a lean and simple codebase, making it easier to maintain and update.\n",
    "\n",
    "#### **3. Faster development**: A laser focus on immediate needs means you get features out the door faster. You're not bogged down by potential \"what ifs\".\n",
    "\n",
    "#### **4. Improved adaptability**: With a flexible and modular codebase, you can respond quickly to changing requirements. <br><br> <hr>\n",
    "\n"
   ]
  },
  {
   "cell_type": "markdown",
   "id": "b15fb22b",
   "metadata": {},
   "source": [
    "### **When YAGNI might be inappropriate ?**"
   ]
  },
  {
   "cell_type": "markdown",
   "id": "b7c98d30",
   "metadata": {},
   "source": [
    "#### Like any principle, YAGNI shouldn't be rigidly applied in every situation. There are times when anticipating near-future needs makes sense: <br><br> Well-Known Requirements: If you know with high certainty a feature is coming soon, building some basic support upfront might be wise. <br><br> Performance-Critical Areas: Sometimes, a less-than-optimal but more general solution is necessary initially to ensure performance targets are met."
   ]
  }
 ],
 "metadata": {
  "kernelspec": {
   "display_name": "base",
   "language": "python",
   "name": "python3"
  },
  "language_info": {
   "codemirror_mode": {
    "name": "ipython",
    "version": 3
   },
   "file_extension": ".py",
   "mimetype": "text/x-python",
   "name": "python",
   "nbconvert_exporter": "python",
   "pygments_lexer": "ipython3",
   "version": "3.11.5"
  }
 },
 "nbformat": 4,
 "nbformat_minor": 5
}
