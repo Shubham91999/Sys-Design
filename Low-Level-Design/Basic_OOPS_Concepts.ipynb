{
 "cells": [
  {
   "cell_type": "markdown",
   "id": "c8273e8d",
   "metadata": {},
   "source": [
    "## Basic OOPS Concepts"
   ]
  },
  {
   "cell_type": "markdown",
   "id": "dc4860ca",
   "metadata": {},
   "source": [
    "#### OOPS: Fundamental concepts revolve around classes and objects\n",
    "#### OOPS Concepts: \n",
    "    1. Classes and Objects \n",
    "    2. Encapsulation \n",
    "    3. Inheritance \n",
    "    4. Polymorphism \n",
    "    5. Abstraction"
   ]
  },
  {
   "cell_type": "markdown",
   "id": "7f7c3438",
   "metadata": {},
   "source": [
    "### **Classes and Objects**"
   ]
  },
  {
   "cell_type": "markdown",
   "id": "553ec8c5",
   "metadata": {},
   "source": [
    "#### **Class** is a blueprint or template that defines the properties and behavior of an object. **Object** is an instance of a class, created using the class definition."
   ]
  },
  {
   "cell_type": "code",
   "execution_count": 4,
   "id": "550e5fc6",
   "metadata": {},
   "outputs": [],
   "source": [
    "class Car:\n",
    "    # Constructor\n",
    "    def __init__(self, make, model, year):\n",
    "        self.make = make\n",
    "        self.model = model\n",
    "        self.year = year\n",
    "\n",
    "    def start_engine(self):\n",
    "        print(f\"{self.make} {self.model}'s engine is starting.\")\n",
    "    "
   ]
  },
  {
   "cell_type": "code",
   "execution_count": 5,
   "id": "7c5cfc14",
   "metadata": {},
   "outputs": [
    {
     "name": "stdout",
     "output_type": "stream",
     "text": [
      "Toyota Camry's engine is starting.\n"
     ]
    }
   ],
   "source": [
    "toyota_camry = Car('Toyota', 'Camry', 2024)\n",
    "toyota_camry.start_engine()"
   ]
  },
  {
   "cell_type": "code",
   "execution_count": 6,
   "id": "c4ffd318",
   "metadata": {},
   "outputs": [
    {
     "name": "stdout",
     "output_type": "stream",
     "text": [
      "Chevrolet Tahoe's engine is starting.\n"
     ]
    }
   ],
   "source": [
    "chev_tahoe = Car('Chevrolet', 'Tahoe', 2025)\n",
    "chev_tahoe.start_engine()"
   ]
  },
  {
   "cell_type": "markdown",
   "id": "cbcef529",
   "metadata": {},
   "source": [
    "### **Encapsulation**"
   ]
  },
  {
   "cell_type": "markdown",
   "id": "7d9bf827",
   "metadata": {},
   "source": [
    "#### **Encapsulation** is a concept of hiding the implementation details of an object from the outside world and only exposing the necessary information through public methods."
   ]
  },
  {
   "cell_type": "markdown",
   "id": "8d3f2f9a",
   "metadata": {},
   "source": [
    "#### Object's internal state is protected from external interference and misuse.\n",
    "#### Attributes and methods can be made private, by using ***Double Underscore prefix (__)**"
   ]
  },
  {
   "cell_type": "code",
   "execution_count": 12,
   "id": "8d37b729",
   "metadata": {},
   "outputs": [],
   "source": [
    "class BankAccount:\n",
    "    def __init__(self, account_number, balance):\n",
    "        # Declaring private attributes\n",
    "        self.__account_number = account_number \n",
    "        self.__balance = balance\n",
    "\n",
    "    #-------- Public Mehthods---------------\n",
    "    def get_acc_number(self):\n",
    "        return self.__account_number\n",
    "\n",
    "    def get_balance(self):\n",
    "        return self.__balance\n",
    "    \n",
    "    def deposit(self, amount):\n",
    "        if amount > 0:\n",
    "            self.__update_balance(amount)\n",
    "        else:\n",
    "            print(\"Deposit amount must be positive.\")\n",
    "\n",
    "    def withdraw(self, amount):\n",
    "        if amount > 0 and amount < self.__balance:\n",
    "            self.__update_balance(-amount)\n",
    "        else:\n",
    "            print('Invalid Amount or Insufficient Balance.')\n",
    "\n",
    "    #-----------Private Method---------------\n",
    "    def __update_balance(self, amount):\n",
    "        self.__balance += amount"
   ]
  },
  {
   "cell_type": "code",
   "execution_count": 22,
   "id": "b198296f",
   "metadata": {},
   "outputs": [
    {
     "name": "stdout",
     "output_type": "stream",
     "text": [
      "Bank Account:  123\n",
      "Intial Balance:  500\n",
      "Balance for account 123 after deposit of 500 is 1000\n",
      "Balance for account 123 after withdrawal of 300 is 700\n"
     ]
    }
   ],
   "source": [
    "bank = BankAccount('123', 500)\n",
    "print('Bank Account: ', bank.get_acc_number())\n",
    "print('Intial Balance: ', bank.get_balance())\n",
    "deposit1 = 500\n",
    "bank.deposit(deposit1)\n",
    "print(f'Balance for account {bank.get_acc_number()} after deposit of {deposit1} is', bank.get_balance())\n",
    "\n",
    "withdraw1= 300\n",
    "bank.withdraw(withdraw1)\n",
    "print(f'Balance for account {bank.get_acc_number()} after withdrawal of {withdraw1} is', bank.get_balance())\n"
   ]
  },
  {
   "cell_type": "code",
   "execution_count": 24,
   "id": "beb6ead1",
   "metadata": {},
   "outputs": [
    {
     "name": "stdout",
     "output_type": "stream",
     "text": [
      "Error: 'BankAccount' object has no attribute '__balance'\n"
     ]
    }
   ],
   "source": [
    "try:\n",
    "    print(bank.__balance)\n",
    "except AttributeError as e:\n",
    "    print('Error:', e)\n"
   ]
  },
  {
   "cell_type": "markdown",
   "id": "c6d1470d",
   "metadata": {},
   "source": [
    "#### Attributes __balance and __account_number are not directly accessible outside the class.\n",
    "#### Public Methods: get_acc_number(), get_balance(), deposit(), withdraw() are interfaces for external use.\n",
    "#### Private Method: __update_balance() is used only inside class to adjust the balance safely."
   ]
  },
  {
   "cell_type": "markdown",
   "id": "f0a1a357",
   "metadata": {},
   "source": [
    "### **Inheritance**"
   ]
  },
  {
   "cell_type": "markdown",
   "id": "a56290a0",
   "metadata": {},
   "source": [
    "#### **Inheritance** is a mechanism that allows a class to **inherit properties and methods** from another class, called the **superclass** or **parent class**."
   ]
  },
  {
   "cell_type": "markdown",
   "id": "cca48737",
   "metadata": {},
   "source": [
    "#### Child class inherits all the attributes and methods of the parent class and can also add new fields and methods or override the ones inherited from parent class.\n",
    "#### Inheritance promotes a **code reuse** and helps create a **heirarchical** structure."
   ]
  },
  {
   "cell_type": "code",
   "execution_count": 31,
   "id": "4c7fef70",
   "metadata": {},
   "outputs": [],
   "source": [
    "# Parent Class\n",
    "class Vehicle:\n",
    "    def __init__(self, color):\n",
    "        self.color = color\n",
    "\n",
    "    def honk(self):\n",
    "        print('Honk Honk')\n",
    "\n",
    "# Sub class Car that inherits from Parent class Vehicle\n",
    "class Car(Vehicle):\n",
    "    def __init__(self, color, speed):\n",
    "        super().__init__(color)  # sets Vehicle's color\n",
    "        # self.color = \"Red\"  # overrides Vehicle's color\n",
    "        self.speed = speed\n",
    "\n",
    "    def accelerate(self):\n",
    "        self.speed += 10   "
   ]
  },
  {
   "cell_type": "code",
   "execution_count": 33,
   "id": "f20dd42a",
   "metadata": {},
   "outputs": [
    {
     "name": "stdout",
     "output_type": "stream",
     "text": [
      "Blue\n",
      "Speed of my car is 110\n"
     ]
    }
   ],
   "source": [
    "my_car = Car(\"Blue\", 100)\n",
    "print(my_car.color)\n",
    "my_car.accelerate()\n",
    "print(f'Speed of my car is {my_car.speed}')"
   ]
  },
  {
   "cell_type": "markdown",
   "id": "32db997d",
   "metadata": {},
   "source": [
    "#### Super() will call the __init__ method of parent class Vehicle with color argument so that is can do its setup."
   ]
  },
  {
   "cell_type": "code",
   "execution_count": 34,
   "id": "9338cad5",
   "metadata": {},
   "outputs": [],
   "source": [
    "class Vehicle:\n",
    "    def __init__(self, color):\n",
    "        print(\"Vehicle constructor called\")\n",
    "        self.color = color\n",
    "\n",
    "    def describe(self):\n",
    "        print(f\"Color: {self.color}\")\n",
    "\n",
    "class Car(Vehicle):\n",
    "    def __init__(self, color, speed):\n",
    "        print(\"Car constructor called\")\n",
    "        super().__init__(color)  # ✅ Calls Vehicle's constructor\n",
    "        self.speed = speed\n",
    "\n",
    "    def describe(self):\n",
    "        super().describe()  # Calls Vehicle.describe()\n",
    "        print(f\"Speed: {self.speed} km/h\")\n"
   ]
  },
  {
   "cell_type": "code",
   "execution_count": 35,
   "id": "281035b4",
   "metadata": {},
   "outputs": [
    {
     "name": "stdout",
     "output_type": "stream",
     "text": [
      "Car constructor called\n",
      "Vehicle constructor called\n",
      "Color: Red\n",
      "Speed: 150 km/h\n"
     ]
    }
   ],
   "source": [
    "c = Car(\"Red\", 150)\n",
    "c.describe()\n"
   ]
  },
  {
   "cell_type": "markdown",
   "id": "e4e7c9dc",
   "metadata": {},
   "source": [
    "### **Polymorphism**"
   ]
  },
  {
   "cell_type": "markdown",
   "id": "8bcf19dd",
   "metadata": {},
   "source": [
    "#### **Polymorphism** is the ability of an object to take on multiple forms."
   ]
  },
  {
   "cell_type": "markdown",
   "id": "4ac7022d",
   "metadata": {},
   "source": [
    "#### Common way to achieve polyorphism is Method Overriding.\n",
    "#### **Method Overriding** is when a subclass provides a specific implmentation of a method that is already defined in its parent class."
   ]
  },
  {
   "cell_type": "code",
   "execution_count": 39,
   "id": "4165ab29",
   "metadata": {},
   "outputs": [
    {
     "name": "stdout",
     "output_type": "stream",
     "text": [
      "Show PDF Content\n",
      "Show Word Content\n",
      "Show Book Content\n"
     ]
    }
   ],
   "source": [
    "# Parent Class\n",
    "class Document:\n",
    "    def show(self):\n",
    "        raise NotImplementedError(\"Subclass must implment abstract method\")\n",
    "    \n",
    "class PDF(Document):\n",
    "    def show(self):\n",
    "        return \"Show PDF Content\"\n",
    "    \n",
    "class Word(Document):\n",
    "    def show(self):\n",
    "        return \"Show Word Content\"\n",
    "\n",
    "class Book(Document):\n",
    "    def show(self):\n",
    "        # return super.show() # returns an error\n",
    "        return \"Show Book Content\"\n",
    "    \n",
    "docs = [PDF(), Word(), Book()]\n",
    "for doc in docs:\n",
    "    print(doc.show())\n"
   ]
  },
  {
   "cell_type": "markdown",
   "id": "f420c0f9",
   "metadata": {},
   "source": [
    "### **Abstraction**\n"
   ]
  },
  {
   "cell_type": "markdown",
   "id": "ff9b6700",
   "metadata": {},
   "source": [
    "#### **Abstraction** is the concept of showing only the necessary information to the outside world while hiding unnecessary details.\n"
   ]
  },
  {
   "cell_type": "markdown",
   "id": "868491e1",
   "metadata": {},
   "source": [
    "#### It is used to simlify complex systems and focus on essential features. In python, it can be achieved using **Abstract Base Classes (ABC)** and **abstract methods**. "
   ]
  },
  {
   "cell_type": "markdown",
   "id": "75e6dd2c",
   "metadata": {},
   "source": [
    "#### **ABC** -> To make class abstract <br> **@abstractmethod** -> To make method abstract"
   ]
  },
  {
   "cell_type": "code",
   "execution_count": 40,
   "id": "cbf9f2c4",
   "metadata": {},
   "outputs": [],
   "source": [
    "from abc import ABC, abstractmethod\n",
    "\n",
    "class Shape(ABC):\n",
    "    # Area method is defined as an abstract method, @abstractmethod decorator used\n",
    "    @abstractmethod\n",
    "    def area(self):\n",
    "        pass\n",
    "\n",
    "class Rectangle(Shape):\n",
    "    def __init__(self, width, height):\n",
    "        self.width = width\n",
    "        self.height = height\n",
    "    \n",
    "    def area(self):\n",
    "        return self.width * self.height\n",
    "    \n",
    "class Circle(Shape):\n",
    "    def __init__(self, radius):\n",
    "        self.radius = radius\n",
    "\n",
    "    def area(self):\n",
    "        return 3.14 * self.radius ** 2\n",
    "         \n",
    "        \n",
    "    "
   ]
  },
  {
   "cell_type": "markdown",
   "id": "6cf36676",
   "metadata": {},
   "source": [
    "#### Classes **Rectangle** and **Circle** provide their own implementation of area() method specific to their shapes. Implementation details are hidden from the outside world, and only the interface defined by abstract class is exposed."
   ]
  },
  {
   "cell_type": "code",
   "execution_count": 41,
   "id": "80eeed46",
   "metadata": {},
   "outputs": [],
   "source": [
    "def print_area(shape: Shape):\n",
    "    print(f\"Area: {shape.area()}\")"
   ]
  },
  {
   "cell_type": "code",
   "execution_count": 42,
   "id": "404035a0",
   "metadata": {},
   "outputs": [
    {
     "name": "stdout",
     "output_type": "stream",
     "text": [
      "Area: 50\n",
      "Area: 153.86\n"
     ]
    }
   ],
   "source": [
    "shapes = [Rectangle(10, 5), Circle(7)]\n",
    "\n",
    "for s in shapes:\n",
    "    print_area(s)\n"
   ]
  },
  {
   "cell_type": "markdown",
   "id": "28bd1a9e",
   "metadata": {},
   "source": [
    "#### The interface (Shape.area()) is known to the user. <br> The implementation (width * height or 3.14 * r^2) is hidden inside each subclass. <br>The user doesn’t care whether it’s a rectangle or circle or triangle — they just trust .area() works."
   ]
  }
 ],
 "metadata": {
  "kernelspec": {
   "display_name": "base",
   "language": "python",
   "name": "python3"
  },
  "language_info": {
   "codemirror_mode": {
    "name": "ipython",
    "version": 3
   },
   "file_extension": ".py",
   "mimetype": "text/x-python",
   "name": "python",
   "nbconvert_exporter": "python",
   "pygments_lexer": "ipython3",
   "version": "3.11.5"
  }
 },
 "nbformat": 4,
 "nbformat_minor": 5
}
