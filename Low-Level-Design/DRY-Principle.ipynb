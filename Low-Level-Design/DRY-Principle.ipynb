{
 "cells": [
  {
   "cell_type": "markdown",
   "id": "f3f2252a",
   "metadata": {},
   "source": [
    "## **DRY -> Don't Repeat Yourself**"
   ]
  },
  {
   "cell_type": "markdown",
   "id": "1f4da25b",
   "metadata": {},
   "source": [
    "#### DRY Principle was introduced by **Andy Hunt** and **Dave Thomas** in their book **\"The Pragmatic Progrmmer\"** <br><br><hr>"
   ]
  },
  {
   "cell_type": "markdown",
   "id": "6e2df78f",
   "metadata": {},
   "source": [
    "### **1. What is DRY Principle?**"
   ]
  },
  {
   "cell_type": "markdown",
   "id": "3856d336",
   "metadata": {},
   "source": [
    "#### Every piece of knowledge must have a single, unambiguous, authoritative representation within a system. <br><br> DRY Principle encourages developers to write modular, reusable code and avaoid duplicating the same functionality in multiple places. It encourages us to minimize redundancy and write code that does one thing well, making our lives (and the lives of those who maintain our code) much easier."
   ]
  },
  {
   "cell_type": "markdown",
   "id": "ab49bcd8",
   "metadata": {},
   "source": [
    "#### **Example 1: Avoiding Code Duplication**"
   ]
  },
  {
   "cell_type": "markdown",
   "id": "93ca97ff",
   "metadata": {},
   "source": [
    "#### Consider you have a system where you need to calculate taxes for different types of products. A non-DRY approach might look like this:"
   ]
  },
  {
   "cell_type": "code",
   "execution_count": null,
   "id": "1a422a97",
   "metadata": {},
   "outputs": [],
   "source": [
    "def calculate_tax_food(price):\n",
    "    tax_rate = 0.07 \n",
    "    return price * (1+tax_rate)\n",
    "\n",
    "def calculate_tax_clothing(price):\n",
    "    tax_rate = 0.12\n",
    "    return price * (1+tax_rate)\n",
    "\n",
    "def calculate_tax_electronics(price):\n",
    "    tax_rate = 0.15\n",
    "    return price * (1+tax_rate)"
   ]
  },
  {
   "cell_type": "markdown",
   "id": "9c1d9e41",
   "metadata": {},
   "source": [
    "#### This code is repetitive and cumbersome. Let's DRY it up:"
   ]
  },
  {
   "cell_type": "code",
   "execution_count": 2,
   "id": "deb22e84",
   "metadata": {},
   "outputs": [],
   "source": [
    "def calculate_tax(price, tax_rate):\n",
    "    return price * (1+tax_rate)\n",
    "\n",
    "# Usage\n",
    "food_tax = calculate_tax(100, 0.07)\n",
    "clothing_tax = calculate_tax(100, 0.12)\n",
    "electronics_tax = calculate_tax(100, 0.15)"
   ]
  },
  {
   "cell_type": "markdown",
   "id": "06dc16c6",
   "metadata": {},
   "source": [
    "#### **Example 2: Using Decorators for cross-cutting concerns**"
   ]
  },
  {
   "cell_type": "markdown",
   "id": "7213b271",
   "metadata": {},
   "source": [
    "#### Suppose you need to log function calls in multiple functions. Instead of writing the logging code in each function, use a decorator:\n",
    "\n"
   ]
  },
  {
   "cell_type": "code",
   "execution_count": 7,
   "id": "096e7a53",
   "metadata": {},
   "outputs": [
    {
     "name": "stdout",
     "output_type": "stream",
     "text": [
      "Calling add with (3, 4) and {}\n",
      "Calling multiply with (3, 4) and {}\n"
     ]
    }
   ],
   "source": [
    "def logger(func):\n",
    "    def wrapper(*args, **kwargs):\n",
    "        print(f\"Calling {func.__name__} with {args} and {kwargs}\")\n",
    "        return func(*args, **kwargs)\n",
    "    return wrapper\n",
    "\n",
    "@logger\n",
    "def add(a, b):\n",
    "    return a+b\n",
    "\n",
    "@logger\n",
    "def multiply(a, b):\n",
    "    return a*b\n",
    "\n",
    "# Usage\n",
    "add_result = add(3, 4)\n",
    "multiply_result = multiply(3, 4)"
   ]
  },
  {
   "cell_type": "markdown",
   "id": "53dc1701",
   "metadata": {},
   "source": [
    "#### In this example, the logger decorator is applied to any function that needs logging, significantly reducing repetitive logging code. <br><br><hr>\n",
    "\n"
   ]
  },
  {
   "cell_type": "markdown",
   "id": "09603fc8",
   "metadata": {},
   "source": [
    "### **Why DRY is important ?**"
   ]
  },
  {
   "cell_type": "markdown",
   "id": "a0196e10",
   "metadata": {},
   "source": [
    "#### **1. Rduced Code Duplication** : By avoiding repeated code, you reduce the overall size of your codebase, making it easier to understand and maintain. \n",
    "#### **2. Improved Code Reusability** : DRY code is more modular and flexible, allowing you to reuse functionality across your application.\n",
    "#### **3. Easier Bug Fixing** :  With a single, authoritative representation of code, you can fix bugs in one place, rather than searching for multiple instances of the same code.\n",
    "#### **4. Imporved Consistency** : When you have duplicated code, it's easy for inconsistencies to creep in. By centralizing the logic in a single location, you ensure that the behavior remains consistent across the entire application.\n",
    "#### **5. Faster Development** : By leveraging existing code, you can speed up your development process and focus on new features and functionality. <br><br><hr>\n"
   ]
  },
  {
   "cell_type": "markdown",
   "id": "bd0366f9",
   "metadata": {},
   "source": [
    "### **How to apply the DRY Principle ?**"
   ]
  },
  {
   "cell_type": "markdown",
   "id": "c1543f0a",
   "metadata": {},
   "source": [
    "#### Practical ways to apply DRY Principle in software development projects:"
   ]
  },
  {
   "cell_type": "markdown",
   "id": "724df6aa",
   "metadata": {},
   "source": [
    "#### **1. Identify Repetitive Code** : Identify areas in your codebase where you have repeated code. Look for patterns, similar logic, or functionality that appears in multiple places.\n",
    "#### **2. Extract Common Functionality** : Extract the common functionality into reusable components, such as functions, classes, or modules.\n",
    "#### **3. Use Inheritance and Composition** : By creating a hierarchy of classes or composing objects together, you can avoid duplicating code and promote code reuse.\n",
    "#### **4. Leverage Libraries and Frameworks** : Instead of reinventing the wheel, leverage libraries and frameworks to avoid writing repetitive code. However, be cautious not to overuse external dependencies, as they can introduce complexity and maintenance overhead.\n",
    "#### **5. Refactor Regularly** : Applying the DRY principle is an ongoing process. As your codebase evolves, it's important to regularly review and refactor your code to eliminate any new instances of duplication. <br><br><hr>"
   ]
  },
  {
   "cell_type": "markdown",
   "id": "8ef9b923",
   "metadata": {},
   "source": [
    "### **When not to use DRY Principle ?**"
   ]
  },
  {
   "cell_type": "markdown",
   "id": "13e0abb3",
   "metadata": {},
   "source": [
    "#### The DRY principle is a guideline, not a hard-and-fast rule. There are situations where it might not be the best approach:\n",
    "\n",
    "#### **1. Premature Abstraction**: Trying to apply DRY too early in the development process might lead to over-engineering. If requirements are likely to change, you might abstract code that ends up getting discarded or significantly reworked.\n",
    "\n",
    "#### **2. Performance-critical code**: In some cases, duplicating code can be faster than calling a reusable function, especially if the function has a high overhead or is not inlined.\n",
    "\n",
    "#### **3. Sacrificing Readability**: If the duplicated code is very simple and easy to understand, it might be better to leave it as is, rather than creating a complex abstraction.\n",
    "\n",
    "#### **4. One-time usage**: If a piece of code is only used once, it might not be worth extracting into a reusable function.\n",
    "\n",
    "#### **5. Legacy code or technical debt**: In cases where you're working with legacy code or technical debt, it might be more practical to duplicate code temporarily, rather than trying to refactor the entire system.\n",
    "\n",
    "#### **6. Debugging and testing**: In some cases, duplicating code can make it easier to debug and test, as it allows for more isolation and control."
   ]
  }
 ],
 "metadata": {
  "kernelspec": {
   "display_name": "base",
   "language": "python",
   "name": "python3"
  },
  "language_info": {
   "codemirror_mode": {
    "name": "ipython",
    "version": 3
   },
   "file_extension": ".py",
   "mimetype": "text/x-python",
   "name": "python",
   "nbconvert_exporter": "python",
   "pygments_lexer": "ipython3",
   "version": "3.11.5"
  }
 },
 "nbformat": 4,
 "nbformat_minor": 5
}
